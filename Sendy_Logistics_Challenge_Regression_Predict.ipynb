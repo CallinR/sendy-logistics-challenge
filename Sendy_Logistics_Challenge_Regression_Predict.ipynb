{
  "nbformat": 4,
  "nbformat_minor": 0,
  "metadata": {
    "colab": {
      "name": "Sendy Logistics Challenge - Regression Predict.ipynb",
      "provenance": []
    },
    "kernelspec": {
      "name": "python3",
      "display_name": "Python 3"
    }
  },
  "cells": [
    {
      "cell_type": "markdown",
      "metadata": {
        "id": "XTA7OUaCMr_D",
        "colab_type": "text"
      },
      "source": [
        "#Welcome to the Sendy Logistics Challenge"
      ]
    },
    {
      "cell_type": "code",
      "metadata": {
        "id": "IbDV-D25M3yV",
        "colab_type": "code",
        "colab": {}
      },
      "source": [
        ""
      ],
      "execution_count": 0,
      "outputs": []
    }
  ]
}